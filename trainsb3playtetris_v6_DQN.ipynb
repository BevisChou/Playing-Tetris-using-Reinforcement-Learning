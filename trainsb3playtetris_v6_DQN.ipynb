{
 "cells": [
  {
   "cell_type": "code",
   "execution_count": 1,
   "id": "c739f953",
   "metadata": {
    "execution": {
     "iopub.execute_input": "2023-06-09T09:18:15.794821Z",
     "iopub.status.busy": "2023-06-09T09:18:15.793827Z",
     "iopub.status.idle": "2023-06-09T09:18:16.000157Z",
     "shell.execute_reply": "2023-06-09T09:18:15.999146Z"
    },
    "papermill": {
     "duration": 0.22015,
     "end_time": "2023-06-09T09:18:16.002998",
     "exception": false,
     "start_time": "2023-06-09T09:18:15.782848",
     "status": "completed"
    },
    "tags": [],
    "id": "c739f953",
    "executionInfo": {
     "status": "ok",
     "timestamp": 1713317708144,
     "user_tz": -480,
     "elapsed": 906,
     "user": {
      "displayName": "Oliver Li",
      "userId": "05664633742597153806"
     }
    },
    "ExecuteTime": {
     "end_time": "2024-04-17T03:52:12.112180600Z",
     "start_time": "2024-04-17T03:52:10.712383Z"
    }
   },
   "outputs": [],
   "source": [
    "import numpy as np\n",
    "import socket\n",
    "import cv2\n",
    "import matplotlib.pyplot as plt"
   ]
  },
  {
   "cell_type": "markdown",
   "id": "f92fb70a",
   "metadata": {
    "papermill": {
     "duration": 0.005886,
     "end_time": "2023-06-09T09:18:16.015376",
     "exception": false,
     "start_time": "2023-06-09T09:18:16.009490",
     "status": "completed"
    },
    "tags": [],
    "id": "f92fb70a"
   },
   "source": [
    "## Install Stable Baseline3 version >= 2.0.0a5\n",
    "#### Note some SB3 versions are not compatible with Gymnasium interface."
   ]
  },
  {
   "cell_type": "code",
   "execution_count": 2,
   "id": "8b9b60a9",
   "metadata": {
    "execution": {
     "iopub.execute_input": "2023-06-09T09:18:16.030189Z",
     "iopub.status.busy": "2023-06-09T09:18:16.029468Z",
     "iopub.status.idle": "2023-06-09T09:18:46.352775Z",
     "shell.execute_reply": "2023-06-09T09:18:46.351365Z"
    },
    "papermill": {
     "duration": 30.333772,
     "end_time": "2023-06-09T09:18:46.355748",
     "exception": false,
     "start_time": "2023-06-09T09:18:16.021976",
     "status": "completed"
    },
    "tags": [],
    "colab": {
     "base_uri": "https://localhost:8080/"
    },
    "id": "8b9b60a9",
    "outputId": "ac6fc65c-de32-4e82-dff3-2881ae1d538d",
    "executionInfo": {
     "status": "ok",
     "timestamp": 1713317718771,
     "user_tz": -480,
     "elapsed": 10629,
     "user": {
      "displayName": "Oliver Li",
      "userId": "05664633742597153806"
     }
    },
    "ExecuteTime": {
     "end_time": "2024-04-17T03:52:52.043053600Z",
     "start_time": "2024-04-17T03:52:12.112180600Z"
    }
   },
   "outputs": [
    {
     "name": "stdout",
     "output_type": "stream",
     "text": [
      "Requirement already satisfied: stable-baselines3>=2.0.0a5 in c:\\users\\olive\\.conda\\envs\\tetris_dqn\\lib\\site-packages (from stable-baselines3[extra]>=2.0.0a5) (2.3.0)\n",
      "Requirement already satisfied: gymnasium<0.30,>=0.28.1 in c:\\users\\olive\\.conda\\envs\\tetris_dqn\\lib\\site-packages (from stable-baselines3>=2.0.0a5->stable-baselines3[extra]>=2.0.0a5) (0.29.1)\n",
      "Requirement already satisfied: numpy>=1.20 in c:\\users\\olive\\appdata\\roaming\\python\\python312\\site-packages (from stable-baselines3>=2.0.0a5->stable-baselines3[extra]>=2.0.0a5) (1.26.4)\n",
      "Requirement already satisfied: torch>=1.13 in c:\\users\\olive\\appdata\\roaming\\python\\python312\\site-packages (from stable-baselines3>=2.0.0a5->stable-baselines3[extra]>=2.0.0a5) (2.2.2)\n",
      "Requirement already satisfied: cloudpickle in c:\\users\\olive\\.conda\\envs\\tetris_dqn\\lib\\site-packages (from stable-baselines3>=2.0.0a5->stable-baselines3[extra]>=2.0.0a5) (3.0.0)\n",
      "Requirement already satisfied: pandas in c:\\users\\olive\\.conda\\envs\\tetris_dqn\\lib\\site-packages (from stable-baselines3>=2.0.0a5->stable-baselines3[extra]>=2.0.0a5) (2.2.2)\n",
      "Requirement already satisfied: matplotlib in c:\\users\\olive\\.conda\\envs\\tetris_dqn\\lib\\site-packages (from stable-baselines3>=2.0.0a5->stable-baselines3[extra]>=2.0.0a5) (3.8.0)\n",
      "Requirement already satisfied: opencv-python in c:\\users\\olive\\appdata\\roaming\\python\\python312\\site-packages (from stable-baselines3[extra]>=2.0.0a5) (4.6.0.66)\n",
      "Collecting pygame (from stable-baselines3[extra]>=2.0.0a5)\n",
      "  Using cached pygame-2.5.2-cp312-cp312-win_amd64.whl.metadata (13 kB)\n",
      "Requirement already satisfied: tensorboard>=2.9.1 in c:\\users\\olive\\appdata\\roaming\\python\\python312\\site-packages (from stable-baselines3[extra]>=2.0.0a5) (2.16.2)\n",
      "Requirement already satisfied: psutil in c:\\users\\olive\\appdata\\roaming\\python\\python312\\site-packages (from stable-baselines3[extra]>=2.0.0a5) (5.9.8)\n",
      "Collecting tqdm (from stable-baselines3[extra]>=2.0.0a5)\n",
      "  Using cached tqdm-4.66.2-py3-none-any.whl.metadata (57 kB)\n",
      "Collecting rich (from stable-baselines3[extra]>=2.0.0a5)\n",
      "  Using cached rich-13.7.1-py3-none-any.whl.metadata (18 kB)\n",
      "Collecting shimmy~=1.3.0 (from shimmy[atari]~=1.3.0; extra == \"extra\"->stable-baselines3[extra]>=2.0.0a5)\n",
      "  Using cached Shimmy-1.3.0-py3-none-any.whl.metadata (3.7 kB)\n",
      "Requirement already satisfied: pillow in c:\\users\\olive\\appdata\\roaming\\python\\python312\\site-packages (from stable-baselines3[extra]>=2.0.0a5) (10.3.0)\n",
      "Collecting autorom~=0.6.1 (from autorom[accept-rom-license]~=0.6.1; extra == \"extra\"->stable-baselines3[extra]>=2.0.0a5)\n",
      "  Using cached AutoROM-0.6.1-py3-none-any.whl.metadata (2.4 kB)\n",
      "Collecting click (from autorom~=0.6.1->autorom[accept-rom-license]~=0.6.1; extra == \"extra\"->stable-baselines3[extra]>=2.0.0a5)\n",
      "  Using cached click-8.1.7-py3-none-any.whl.metadata (3.0 kB)\n",
      "Requirement already satisfied: requests in c:\\users\\olive\\.conda\\envs\\tetris_dqn\\lib\\site-packages (from autorom~=0.6.1->autorom[accept-rom-license]~=0.6.1; extra == \"extra\"->stable-baselines3[extra]>=2.0.0a5) (2.31.0)\n",
      "Collecting AutoROM.accept-rom-license (from autorom[accept-rom-license]~=0.6.1; extra == \"extra\"->stable-baselines3[extra]>=2.0.0a5)\n",
      "  Using cached AutoROM.accept-rom-license-0.6.1.tar.gz (434 kB)\n",
      "  Installing build dependencies: started\n",
      "  Installing build dependencies: finished with status 'done'\n",
      "  Getting requirements to build wheel: started\n",
      "  Getting requirements to build wheel: finished with status 'done'\n",
      "  Preparing metadata (pyproject.toml): started\n",
      "  Preparing metadata (pyproject.toml): finished with status 'done'\n",
      "Requirement already satisfied: typing-extensions>=4.3.0 in c:\\users\\olive\\appdata\\roaming\\python\\python312\\site-packages (from gymnasium<0.30,>=0.28.1->stable-baselines3>=2.0.0a5->stable-baselines3[extra]>=2.0.0a5) (4.11.0)\n",
      "Requirement already satisfied: farama-notifications>=0.0.1 in c:\\users\\olive\\.conda\\envs\\tetris_dqn\\lib\\site-packages (from gymnasium<0.30,>=0.28.1->stable-baselines3>=2.0.0a5->stable-baselines3[extra]>=2.0.0a5) (0.0.4)\n",
      "INFO: pip is looking at multiple versions of shimmy[atari] to determine which version is compatible with other requirements. This could take a while.\n",
      "Collecting stable-baselines3[extra]>=2.0.0a5\n",
      "  Using cached stable_baselines3-2.3.0-py3-none-any.whl.metadata (5.1 kB)\n",
      "  Downloading stable_baselines3-2.3.0a5-py3-none-any.whl.metadata (5.1 kB)\n",
      "  Downloading stable_baselines3-2.3.0a4-py3-none-any.whl.metadata (5.1 kB)\n",
      "  Downloading stable_baselines3-2.3.0a2-py3-none-any.whl.metadata (5.1 kB)\n",
      "  Downloading stable_baselines3-2.3.0a1-py3-none-any.whl.metadata (5.0 kB)\n",
      "  Using cached stable_baselines3-2.2.1-py3-none-any.whl.metadata (5.0 kB)\n",
      "  Downloading stable_baselines3-2.2.0a11-py3-none-any.whl.metadata (5.0 kB)\n",
      "INFO: pip is still looking at multiple versions of shimmy[atari] to determine which version is compatible with other requirements. This could take a while.\n",
      "  Downloading stable_baselines3-2.2.0a9-py3-none-any.whl.metadata (5.1 kB)\n",
      "  Downloading stable_baselines3-2.2.0a8-py3-none-any.whl.metadata (5.1 kB)\n",
      "  Using cached stable_baselines3-2.1.0-py3-none-any.whl.metadata (5.2 kB)\n",
      "Collecting shimmy~=1.1.0 (from shimmy[atari]~=1.1.0; extra == \"extra\"->stable-baselines3[extra]>=2.0.0a5)\n",
      "  Using cached Shimmy-1.1.0-py3-none-any.whl.metadata (3.3 kB)\n",
      "Collecting stable-baselines3[extra]>=2.0.0a5\n",
      "  Using cached stable_baselines3-2.0.0-py3-none-any.whl.metadata (5.4 kB)\n",
      "Collecting gymnasium<0.30,>=0.28.1 (from stable-baselines3>=2.0.0a5->stable-baselines3[extra]>=2.0.0a5)\n",
      "  Using cached gymnasium-0.28.1-py3-none-any.whl.metadata (9.2 kB)\n",
      "Collecting shimmy~=0.2.1 (from shimmy[atari]~=0.2.1; extra == \"extra\"->stable-baselines3[extra]>=2.0.0a5)\n",
      "  Using cached Shimmy-0.2.1-py3-none-any.whl.metadata (2.3 kB)\n",
      "Collecting jax-jumpy>=1.0.0 (from gymnasium<0.30,>=0.28.1->stable-baselines3>=2.0.0a5->stable-baselines3[extra]>=2.0.0a5)\n",
      "  Using cached jax_jumpy-1.0.0-py3-none-any.whl.metadata (15 kB)\n",
      "Collecting stable-baselines3[extra]>=2.0.0a5\n",
      "  Downloading stable_baselines3-2.0.0a13-py3-none-any.whl.metadata (5.3 kB)\n",
      "INFO: This is taking longer than usual. You might need to provide the dependency resolver with stricter constraints to reduce runtime. See https://pip.pypa.io/warnings/backtracking for guidance. If you want to abort this run, press Ctrl + C.\n",
      "  Downloading stable_baselines3-2.0.0a10-py3-none-any.whl.metadata (5.3 kB)\n",
      "  Downloading stable_baselines3-2.0.0a9-py3-none-any.whl.metadata (5.3 kB)\n",
      "  Downloading stable_baselines3-2.0.0a5-py3-none-any.whl.metadata (5.3 kB)\n"
     ]
    },
    {
     "name": "stderr",
     "output_type": "stream",
     "text": [
      "ERROR: Could not find a version that satisfies the requirement ale-py~=0.8.1; extra == \"atari\" (from shimmy[atari]) (from versions: none)\n",
      "ERROR: No matching distribution found for ale-py~=0.8.1; extra == \"atari\"\n"
     ]
    }
   ],
   "source": [
    "!pip install \"stable-baselines3[extra] >= 2.0.0a5\""
   ]
  },
  {
   "cell_type": "markdown",
   "id": "5578af9a",
   "metadata": {
    "papermill": {
     "duration": 0.00942,
     "end_time": "2023-06-09T09:18:46.376746",
     "exception": false,
     "start_time": "2023-06-09T09:18:46.367326",
     "status": "completed"
    },
    "tags": [],
    "id": "5578af9a"
   },
   "source": [
    "## Run the Java Tetris Server using subprocess"
   ]
  },
  {
   "cell_type": "code",
   "execution_count": 3,
   "id": "3816074e",
   "metadata": {
    "execution": {
     "iopub.execute_input": "2023-06-09T09:18:46.398256Z",
     "iopub.status.busy": "2023-06-09T09:18:46.397811Z",
     "iopub.status.idle": "2023-06-09T09:18:48.082118Z",
     "shell.execute_reply": "2023-06-09T09:18:48.080383Z"
    },
    "papermill": {
     "duration": 1.698317,
     "end_time": "2023-06-09T09:18:48.084800",
     "exception": false,
     "start_time": "2023-06-09T09:18:46.386483",
     "status": "completed"
    },
    "tags": [],
    "colab": {
     "base_uri": "https://localhost:8080/"
    },
    "id": "3816074e",
    "outputId": "a722da49-677a-4fe0-e2de-efb264c0798f",
    "executionInfo": {
     "status": "ok",
     "timestamp": 1713317720978,
     "user_tz": -480,
     "elapsed": 2215,
     "user": {
      "displayName": "Oliver Li",
      "userId": "05664633742597153806"
     }
    },
    "ExecuteTime": {
     "end_time": "2024-04-17T03:52:52.114023500Z",
     "start_time": "2024-04-17T03:52:52.043053600Z"
    }
   },
   "outputs": [
    {
     "name": "stderr",
     "output_type": "stream",
     "text": [
      "'wget' 不是内部或外部命令，也不是可运行的程序\n",
      "或批处理文件。\n"
     ]
    }
   ],
   "source": [
    "# Download v0.6 server from AIoTLab website\n",
    "!wget http://www.aiotlab.org/teaching/oop/tetris/TetrisTCPserver_v0.6.jar"
   ]
  },
  {
   "cell_type": "code",
   "execution_count": 4,
   "id": "c7368656",
   "metadata": {
    "execution": {
     "iopub.execute_input": "2023-06-09T09:18:48.108008Z",
     "iopub.status.busy": "2023-06-09T09:18:48.107566Z",
     "iopub.status.idle": "2023-06-09T09:18:48.120252Z",
     "shell.execute_reply": "2023-06-09T09:18:48.119047Z"
    },
    "papermill": {
     "duration": 0.027103,
     "end_time": "2023-06-09T09:18:48.122571",
     "exception": false,
     "start_time": "2023-06-09T09:18:48.095468",
     "status": "completed"
    },
    "tags": [],
    "colab": {
     "base_uri": "https://localhost:8080/"
    },
    "id": "c7368656",
    "outputId": "c876e620-94a3-4708-90f9-64494dc8eb21",
    "executionInfo": {
     "status": "ok",
     "timestamp": 1713317720978,
     "user_tz": -480,
     "elapsed": 7,
     "user": {
      "displayName": "Oliver Li",
      "userId": "05664633742597153806"
     }
    },
    "ExecuteTime": {
     "end_time": "2024-04-17T03:52:54.260293800Z",
     "start_time": "2024-04-17T03:52:52.086891800Z"
    }
   },
   "outputs": [
    {
     "ename": "FileNotFoundError",
     "evalue": "[WinError 2] 系统找不到指定的文件。",
     "output_type": "error",
     "traceback": [
      "\u001B[1;31m---------------------------------------------------------------------------\u001B[0m",
      "\u001B[1;31mFileNotFoundError\u001B[0m                         Traceback (most recent call last)",
      "Cell \u001B[1;32mIn[4], line 2\u001B[0m\n\u001B[0;32m      1\u001B[0m \u001B[38;5;28;01mimport\u001B[39;00m \u001B[38;5;21;01msubprocess\u001B[39;00m\n\u001B[1;32m----> 2\u001B[0m subprocess\u001B[38;5;241m.\u001B[39mPopen([\u001B[38;5;124m\"\u001B[39m\u001B[38;5;124mjava\u001B[39m\u001B[38;5;124m\"\u001B[39m,\u001B[38;5;124m\"\u001B[39m\u001B[38;5;124m-jar\u001B[39m\u001B[38;5;124m\"\u001B[39m,\u001B[38;5;124m\"\u001B[39m\u001B[38;5;124mTetrisTCPserver_v0.6.jar\u001B[39m\u001B[38;5;124m\"\u001B[39m])\n",
      "File \u001B[1;32m~\\.conda\\envs\\Tetris_DQN\\Lib\\subprocess.py:1026\u001B[0m, in \u001B[0;36mPopen.__init__\u001B[1;34m(self, args, bufsize, executable, stdin, stdout, stderr, preexec_fn, close_fds, shell, cwd, env, universal_newlines, startupinfo, creationflags, restore_signals, start_new_session, pass_fds, user, group, extra_groups, encoding, errors, text, umask, pipesize, process_group)\u001B[0m\n\u001B[0;32m   1022\u001B[0m         \u001B[38;5;28;01mif\u001B[39;00m \u001B[38;5;28mself\u001B[39m\u001B[38;5;241m.\u001B[39mtext_mode:\n\u001B[0;32m   1023\u001B[0m             \u001B[38;5;28mself\u001B[39m\u001B[38;5;241m.\u001B[39mstderr \u001B[38;5;241m=\u001B[39m io\u001B[38;5;241m.\u001B[39mTextIOWrapper(\u001B[38;5;28mself\u001B[39m\u001B[38;5;241m.\u001B[39mstderr,\n\u001B[0;32m   1024\u001B[0m                     encoding\u001B[38;5;241m=\u001B[39mencoding, errors\u001B[38;5;241m=\u001B[39merrors)\n\u001B[1;32m-> 1026\u001B[0m     \u001B[38;5;28mself\u001B[39m\u001B[38;5;241m.\u001B[39m_execute_child(args, executable, preexec_fn, close_fds,\n\u001B[0;32m   1027\u001B[0m                         pass_fds, cwd, env,\n\u001B[0;32m   1028\u001B[0m                         startupinfo, creationflags, shell,\n\u001B[0;32m   1029\u001B[0m                         p2cread, p2cwrite,\n\u001B[0;32m   1030\u001B[0m                         c2pread, c2pwrite,\n\u001B[0;32m   1031\u001B[0m                         errread, errwrite,\n\u001B[0;32m   1032\u001B[0m                         restore_signals,\n\u001B[0;32m   1033\u001B[0m                         gid, gids, uid, umask,\n\u001B[0;32m   1034\u001B[0m                         start_new_session, process_group)\n\u001B[0;32m   1035\u001B[0m \u001B[38;5;28;01mexcept\u001B[39;00m:\n\u001B[0;32m   1036\u001B[0m     \u001B[38;5;66;03m# Cleanup if the child failed starting.\u001B[39;00m\n\u001B[0;32m   1037\u001B[0m     \u001B[38;5;28;01mfor\u001B[39;00m f \u001B[38;5;129;01min\u001B[39;00m \u001B[38;5;28mfilter\u001B[39m(\u001B[38;5;28;01mNone\u001B[39;00m, (\u001B[38;5;28mself\u001B[39m\u001B[38;5;241m.\u001B[39mstdin, \u001B[38;5;28mself\u001B[39m\u001B[38;5;241m.\u001B[39mstdout, \u001B[38;5;28mself\u001B[39m\u001B[38;5;241m.\u001B[39mstderr)):\n",
      "File \u001B[1;32m~\\.conda\\envs\\Tetris_DQN\\Lib\\subprocess.py:1538\u001B[0m, in \u001B[0;36mPopen._execute_child\u001B[1;34m(self, args, executable, preexec_fn, close_fds, pass_fds, cwd, env, startupinfo, creationflags, shell, p2cread, p2cwrite, c2pread, c2pwrite, errread, errwrite, unused_restore_signals, unused_gid, unused_gids, unused_uid, unused_umask, unused_start_new_session, unused_process_group)\u001B[0m\n\u001B[0;32m   1536\u001B[0m \u001B[38;5;66;03m# Start the process\u001B[39;00m\n\u001B[0;32m   1537\u001B[0m \u001B[38;5;28;01mtry\u001B[39;00m:\n\u001B[1;32m-> 1538\u001B[0m     hp, ht, pid, tid \u001B[38;5;241m=\u001B[39m _winapi\u001B[38;5;241m.\u001B[39mCreateProcess(executable, args,\n\u001B[0;32m   1539\u001B[0m                              \u001B[38;5;66;03m# no special security\u001B[39;00m\n\u001B[0;32m   1540\u001B[0m                              \u001B[38;5;28;01mNone\u001B[39;00m, \u001B[38;5;28;01mNone\u001B[39;00m,\n\u001B[0;32m   1541\u001B[0m                              \u001B[38;5;28mint\u001B[39m(\u001B[38;5;129;01mnot\u001B[39;00m close_fds),\n\u001B[0;32m   1542\u001B[0m                              creationflags,\n\u001B[0;32m   1543\u001B[0m                              env,\n\u001B[0;32m   1544\u001B[0m                              cwd,\n\u001B[0;32m   1545\u001B[0m                              startupinfo)\n\u001B[0;32m   1546\u001B[0m \u001B[38;5;28;01mfinally\u001B[39;00m:\n\u001B[0;32m   1547\u001B[0m     \u001B[38;5;66;03m# Child is launched. Close the parent's copy of those pipe\u001B[39;00m\n\u001B[0;32m   1548\u001B[0m     \u001B[38;5;66;03m# handles that only the child should have open.  You need\u001B[39;00m\n\u001B[1;32m   (...)\u001B[0m\n\u001B[0;32m   1551\u001B[0m     \u001B[38;5;66;03m# pipe will not close when the child process exits and the\u001B[39;00m\n\u001B[0;32m   1552\u001B[0m     \u001B[38;5;66;03m# ReadFile will hang.\u001B[39;00m\n\u001B[0;32m   1553\u001B[0m     \u001B[38;5;28mself\u001B[39m\u001B[38;5;241m.\u001B[39m_close_pipe_fds(p2cread, p2cwrite,\n\u001B[0;32m   1554\u001B[0m                          c2pread, c2pwrite,\n\u001B[0;32m   1555\u001B[0m                          errread, errwrite)\n",
      "\u001B[1;31mFileNotFoundError\u001B[0m: [WinError 2] 系统找不到指定的文件。"
     ]
    }
   ],
   "source": [
    "import subprocess\n",
    "subprocess.Popen([\"java\",\"-jar\",\"TetrisTCPserver_v0.6.jar\"])"
   ]
  },
  {
   "cell_type": "markdown",
   "id": "cddc2416",
   "metadata": {
    "papermill": {
     "duration": 0.009985,
     "end_time": "2023-06-09T09:18:48.143277",
     "exception": false,
     "start_time": "2023-06-09T09:18:48.133292",
     "status": "completed"
    },
    "tags": [],
    "id": "cddc2416"
   },
   "source": [
    "## Create our own Tetris Test environment by inheriting Gym class"
   ]
  },
  {
   "cell_type": "code",
   "execution_count": null,
   "id": "53b4988d",
   "metadata": {
    "execution": {
     "iopub.execute_input": "2023-06-09T09:18:48.165704Z",
     "iopub.status.busy": "2023-06-09T09:18:48.165344Z",
     "iopub.status.idle": "2023-06-09T09:18:48.973482Z",
     "shell.execute_reply": "2023-06-09T09:18:48.972354Z"
    },
    "papermill": {
     "duration": 0.822624,
     "end_time": "2023-06-09T09:18:48.976017",
     "exception": false,
     "start_time": "2023-06-09T09:18:48.153393",
     "status": "completed"
    },
    "tags": [],
    "id": "53b4988d",
    "executionInfo": {
     "status": "ok",
     "timestamp": 1713317722482,
     "user_tz": -480,
     "elapsed": 1507,
     "user": {
      "displayName": "Oliver Li",
      "userId": "05664633742597153806"
     }
    },
    "ExecuteTime": {
     "start_time": "2024-04-17T03:52:54.248995900Z"
    }
   },
   "outputs": [],
   "source": [
    "import gymnasium as gym\n",
    "from gymnasium import spaces"
   ]
  },
  {
   "cell_type": "code",
   "execution_count": null,
   "id": "b800b77b",
   "metadata": {
    "execution": {
     "iopub.execute_input": "2023-06-09T09:18:48.998364Z",
     "iopub.status.busy": "2023-06-09T09:18:48.997961Z",
     "iopub.status.idle": "2023-06-09T09:18:49.014713Z",
     "shell.execute_reply": "2023-06-09T09:18:49.013825Z"
    },
    "papermill": {
     "duration": 0.030707,
     "end_time": "2023-06-09T09:18:49.017016",
     "exception": false,
     "start_time": "2023-06-09T09:18:48.986309",
     "status": "completed"
    },
    "tags": [],
    "id": "b800b77b",
    "executionInfo": {
     "status": "ok",
     "timestamp": 1713317722482,
     "user_tz": -480,
     "elapsed": 3,
     "user": {
      "displayName": "Oliver Li",
      "userId": "05664633742597153806"
     }
    },
    "colab": {
     "base_uri": "https://localhost:8080/"
    },
    "outputId": "8ef07e7a-d92e-467a-f5b2-f69c0cc20954",
    "ExecuteTime": {
     "start_time": "2024-04-17T03:52:54.252646900Z"
    }
   },
   "outputs": [],
   "source": [
    "class TetrisEnv(gym.Env):\n",
    "\n",
    "    '''\n",
    "        The supported actions are\n",
    "        0: move -1\n",
    "        1: move 1\n",
    "        2: rotate 0 // counter-clockwise\n",
    "        3: rotate 1 // clockwise\n",
    "        4: drop down\n",
    "    '''\n",
    "    N_DISCRETE_ACTIONS = 5\n",
    "\n",
    "    IMG_HEIGHT = 200\n",
    "    IMG_WIDTH = 100\n",
    "    IMG_CHANNELS = 3\n",
    "\n",
    "\n",
    "    def __init__(self, host_ip=\"127.0.0.1\", host_port=10612):\n",
    "        super().__init__()\n",
    "\n",
    "        self.action_space = spaces.Discrete(self.N_DISCRETE_ACTIONS)\n",
    "        # Example for using image as input (channel-first; channel-last also works):\n",
    "        self.observation_space = spaces.Box(low=0, high=255,\n",
    "                                            shape=(self.IMG_HEIGHT, self.IMG_WIDTH, self.IMG_CHANNELS), dtype=np.uint8)\n",
    "        self.server_ip = host_ip\n",
    "        self.server_port = host_port\n",
    "\n",
    "        self.client_sock = socket.socket(socket.AF_INET, socket.SOCK_STREAM)\n",
    "        self.client_sock.connect((self.server_ip, self.server_port))\n",
    "\n",
    "    def step(self, action):\n",
    "        if action == 0:\n",
    "            self.client_sock.sendall(b\"move -1\\n\")\n",
    "        elif action == 1:\n",
    "            self.client_sock.sendall(b\"move 1\\n\")\n",
    "        elif action == 2:\n",
    "            self.client_sock.sendall(b\"rotate 0\\n\")\n",
    "        elif action == 3:\n",
    "            self.client_sock.sendall(b\"rotate 1\\n\")\n",
    "        elif action == 4:\n",
    "            self.client_sock.sendall(b\"drop\\n\")\n",
    "\n",
    "        terminated, lines, height, holes, observation = self.get_tetris_server_response(self.client_sock)\n",
    "        self.observation = observation\n",
    "\n",
    "        reward = 0\n",
    "        if action == 4: # Drop reward\n",
    "            reward += 5\n",
    "\n",
    "        # Negative height reward\n",
    "        if height > self.height:\n",
    "            reward -= (height - self.height)*5\n",
    "\n",
    "        # Positive hole reduction reward\n",
    "        if holes < self.holes:\n",
    "            reward += (self.holes - holes)*10\n",
    "\n",
    "        if lines > self.lines_removed:\n",
    "            reward = reward + (lines - self.lines_removed)*1000\n",
    "            self.lines_removed = lines\n",
    "\n",
    "        self.reward = self.reward + reward\n",
    "        self.holes = holes\n",
    "        self.height = height\n",
    "        self.lifetime += 1\n",
    "        truncated = False\n",
    "        info = {'removed_lines':self.lines_removed, 'lifetime':self.lifetime}\n",
    "        return (observation, reward, terminated, truncated, info)\n",
    "\n",
    "    def reset(self, seed=None, options=None):\n",
    "        self.client_sock.sendall(b\"start\\n\")\n",
    "        terminated, lines, height, holes, observation = self.get_tetris_server_response(self.client_sock)\n",
    "        self.observation = observation\n",
    "        self.reward = 0\n",
    "        self.lines_removed = 0\n",
    "        self.holes = 0\n",
    "        self.height = 0\n",
    "        self.lifetime = 0\n",
    "        info = {}\n",
    "        return observation, info\n",
    "\n",
    "    def render(self):\n",
    "        ''''''\n",
    "        #if self.render_mode == \"console\":\n",
    "        #    print('Total reward ' + str(self.reward))\n",
    "        '''\n",
    "        if self.render_mode == \"human\":\n",
    "            cv2.imshow(\"Image\", self.observation)\n",
    "            cv2.waitKey(0)\n",
    "            cv2.destroyAllWindows()\n",
    "        '''\n",
    "\n",
    "    def close(self):\n",
    "        self.client_sock.close()\n",
    "\n",
    "    def get_tetris_server_response(self, sock):\n",
    "        is_game_over = (sock.recv(1) == b'\\x01')\n",
    "        removed_lines = int.from_bytes(sock.recv(4), 'big')\n",
    "        height = int.from_bytes(sock.recv(4), 'big')\n",
    "        holes = int.from_bytes(sock.recv(4), 'big')\n",
    "        img_size = int.from_bytes(sock.recv(4), 'big')\n",
    "        img_png = sock.recv(img_size)\n",
    "\n",
    "        nparr = np.frombuffer(img_png, np.uint8)\n",
    "        np_image = cv2.imdecode(nparr, -1)\n",
    "\n",
    "        return is_game_over, removed_lines, height, holes, np_image"
   ]
  },
  {
   "cell_type": "markdown",
   "id": "426ec3b4",
   "metadata": {
    "papermill": {
     "duration": 0.009943,
     "end_time": "2023-06-09T09:18:49.037332",
     "exception": false,
     "start_time": "2023-06-09T09:18:49.027389",
     "status": "completed"
    },
    "tags": [],
    "id": "426ec3b4"
   },
   "source": [
    "## Use SB3 env_checker to check our environment"
   ]
  },
  {
   "cell_type": "code",
   "execution_count": null,
   "id": "c3e55adc",
   "metadata": {
    "execution": {
     "iopub.execute_input": "2023-06-09T09:18:49.060221Z",
     "iopub.status.busy": "2023-06-09T09:18:49.059473Z",
     "iopub.status.idle": "2023-06-09T09:19:02.503219Z",
     "shell.execute_reply": "2023-06-09T09:19:02.501749Z"
    },
    "papermill": {
     "duration": 13.45888,
     "end_time": "2023-06-09T09:19:02.506761",
     "exception": false,
     "start_time": "2023-06-09T09:18:49.047881",
     "status": "completed"
    },
    "tags": [],
    "id": "c3e55adc",
    "executionInfo": {
     "status": "ok",
     "timestamp": 1713317748577,
     "user_tz": -480,
     "elapsed": 26097,
     "user": {
      "displayName": "Oliver Li",
      "userId": "05664633742597153806"
     }
    },
    "ExecuteTime": {
     "start_time": "2024-04-17T03:52:54.254987400Z"
    }
   },
   "outputs": [],
   "source": [
    "from stable_baselines3.common.env_checker import check_env\n",
    "\n",
    "env = TetrisEnv()\n",
    "# It will check your custom environment and output additional warnings if needed\n",
    "# No response may be caused by mismatched action state definition and implementation\n",
    "check_env(env)"
   ]
  },
  {
   "cell_type": "markdown",
   "id": "353304ab",
   "metadata": {
    "papermill": {
     "duration": 0.010806,
     "end_time": "2023-06-09T09:19:02.529052",
     "exception": false,
     "start_time": "2023-06-09T09:19:02.518246",
     "status": "completed"
    },
    "tags": [],
    "id": "353304ab"
   },
   "source": [
    "## Randomly test the environment"
   ]
  },
  {
   "cell_type": "code",
   "execution_count": null,
   "id": "1a54f6e5",
   "metadata": {
    "execution": {
     "iopub.execute_input": "2023-06-09T09:19:02.554273Z",
     "iopub.status.busy": "2023-06-09T09:19:02.553500Z",
     "iopub.status.idle": "2023-06-09T09:19:03.384989Z",
     "shell.execute_reply": "2023-06-09T09:19:03.384154Z"
    },
    "papermill": {
     "duration": 0.847121,
     "end_time": "2023-06-09T09:19:03.387405",
     "exception": false,
     "start_time": "2023-06-09T09:19:02.540284",
     "status": "completed"
    },
    "tags": [],
    "id": "1a54f6e5",
    "executionInfo": {
     "status": "ok",
     "timestamp": 1713317749207,
     "user_tz": -480,
     "elapsed": 649,
     "user": {
      "displayName": "Oliver Li",
      "userId": "05664633742597153806"
     }
    },
    "colab": {
     "base_uri": "https://localhost:8080/"
    },
    "outputId": "0a41a334-1a1e-4938-a1e5-95def3d1a1f5",
    "ExecuteTime": {
     "start_time": "2024-04-17T03:52:54.254987400Z"
    }
   },
   "outputs": [],
   "source": [
    "obs, info = env.reset()\n",
    "n_steps = 20\n",
    "for _ in range(n_steps):\n",
    "    # Random action\n",
    "    action = env.action_space.sample()\n",
    "    obs, reward, terminated, truncated, info = env.step(action)\n",
    "\n",
    "    env.render() # We render nothing now\n",
    "\n",
    "    if terminated:\n",
    "        break"
   ]
  },
  {
   "cell_type": "code",
   "execution_count": null,
   "id": "74655389",
   "metadata": {
    "execution": {
     "iopub.execute_input": "2023-06-09T09:19:03.410284Z",
     "iopub.status.busy": "2023-06-09T09:19:03.409588Z",
     "iopub.status.idle": "2023-06-09T09:19:03.685328Z",
     "shell.execute_reply": "2023-06-09T09:19:03.684246Z"
    },
    "papermill": {
     "duration": 0.289714,
     "end_time": "2023-06-09T09:19:03.687643",
     "exception": false,
     "start_time": "2023-06-09T09:19:03.397929",
     "status": "completed"
    },
    "tags": [],
    "id": "74655389",
    "executionInfo": {
     "status": "ok",
     "timestamp": 1713317749540,
     "user_tz": -480,
     "elapsed": 336,
     "user": {
      "displayName": "Oliver Li",
      "userId": "05664633742597153806"
     }
    },
    "colab": {
     "base_uri": "https://localhost:8080/",
     "height": 451
    },
    "outputId": "b27f070f-254c-4cdc-f437-3f2d37051d37",
    "ExecuteTime": {
     "start_time": "2024-04-17T03:52:54.260293800Z"
    }
   },
   "outputs": [],
   "source": [
    "# Show the final screen\n",
    "%matplotlib inline\n",
    "plt.imshow(obs)"
   ]
  },
  {
   "cell_type": "code",
   "execution_count": null,
   "id": "1f2160f4",
   "metadata": {
    "execution": {
     "iopub.execute_input": "2023-06-09T09:19:03.710785Z",
     "iopub.status.busy": "2023-06-09T09:19:03.710409Z",
     "iopub.status.idle": "2023-06-09T09:19:03.714701Z",
     "shell.execute_reply": "2023-06-09T09:19:03.713943Z"
    },
    "papermill": {
     "duration": 0.017992,
     "end_time": "2023-06-09T09:19:03.716572",
     "exception": false,
     "start_time": "2023-06-09T09:19:03.698580",
     "status": "completed"
    },
    "tags": [],
    "id": "1f2160f4",
    "executionInfo": {
     "status": "ok",
     "timestamp": 1713317749540,
     "user_tz": -480,
     "elapsed": 17,
     "user": {
      "displayName": "Oliver Li",
      "userId": "05664633742597153806"
     }
    },
    "ExecuteTime": {
     "end_time": "2024-04-17T03:52:54.267237700Z",
     "start_time": "2024-04-17T03:52:54.266539700Z"
    }
   },
   "outputs": [],
   "source": [
    "from stable_baselines3 import PPO, A2C, DQN\n",
    "from stable_baselines3.common.env_util import make_vec_env"
   ]
  },
  {
   "cell_type": "markdown",
   "id": "915dae91",
   "metadata": {
    "papermill": {
     "duration": 0.010354,
     "end_time": "2023-06-09T09:19:03.737765",
     "exception": false,
     "start_time": "2023-06-09T09:19:03.727411",
     "status": "completed"
    },
    "tags": [],
    "id": "915dae91"
   },
   "source": [
    "## Create an environment with 30 client threads"
   ]
  },
  {
   "cell_type": "code",
   "execution_count": null,
   "id": "80d6eaaf",
   "metadata": {
    "execution": {
     "iopub.execute_input": "2023-06-09T09:19:03.761580Z",
     "iopub.status.busy": "2023-06-09T09:19:03.760998Z",
     "iopub.status.idle": "2023-06-09T09:19:03.805717Z",
     "shell.execute_reply": "2023-06-09T09:19:03.804571Z"
    },
    "papermill": {
     "duration": 0.060223,
     "end_time": "2023-06-09T09:19:03.809009",
     "exception": false,
     "start_time": "2023-06-09T09:19:03.748786",
     "status": "completed"
    },
    "tags": [],
    "id": "80d6eaaf",
    "executionInfo": {
     "status": "ok",
     "timestamp": 1713317749540,
     "user_tz": -480,
     "elapsed": 16,
     "user": {
      "displayName": "Oliver Li",
      "userId": "05664633742597153806"
     }
    },
    "ExecuteTime": {
     "start_time": "2024-04-17T03:52:54.267237700Z"
    }
   },
   "outputs": [],
   "source": [
    "# Let's try DQN by creating 30 environments\n",
    "vec_env = make_vec_env(TetrisEnv, n_envs=30)"
   ]
  },
  {
   "cell_type": "markdown",
   "id": "bdca1cd2",
   "metadata": {
    "papermill": {
     "duration": 0.011907,
     "end_time": "2023-06-09T09:19:03.836036",
     "exception": false,
     "start_time": "2023-06-09T09:19:03.824129",
     "status": "completed"
    },
    "tags": [],
    "id": "bdca1cd2"
   },
   "source": [
    "## We choose DQN with CNN policy, and train 3,000,000 steps"
   ]
  },
  {
   "cell_type": "code",
   "source": [
    "from google.colab import drive\n",
    "drive.mount('/content/drive')\n"
   ],
   "metadata": {
    "id": "-O7OLx7hWXB7",
    "executionInfo": {
     "status": "ok",
     "timestamp": 1713317752191,
     "user_tz": -480,
     "elapsed": 2667,
     "user": {
      "displayName": "Oliver Li",
      "userId": "05664633742597153806"
     }
    },
    "colab": {
     "base_uri": "https://localhost:8080/"
    },
    "outputId": "eb028949-912d-42ca-8874-dab27c4a257b",
    "ExecuteTime": {
     "start_time": "2024-04-17T03:52:54.274019500Z"
    }
   },
   "id": "-O7OLx7hWXB7",
   "execution_count": null,
   "outputs": []
  },
  {
   "cell_type": "code",
   "execution_count": null,
   "id": "7ab15126",
   "metadata": {
    "execution": {
     "iopub.execute_input": "2023-06-09T09:19:03.859451Z",
     "iopub.status.busy": "2023-06-09T09:19:03.859017Z",
     "iopub.status.idle": "2023-06-09T14:29:42.281075Z",
     "shell.execute_reply": "2023-06-09T14:29:42.277129Z"
    },
    "papermill": {
     "duration": 18638.44002,
     "end_time": "2023-06-09T14:29:42.286994",
     "exception": false,
     "start_time": "2023-06-09T09:19:03.846974",
     "status": "completed"
    },
    "tags": [],
    "id": "7ab15126",
    "colab": {
     "base_uri": "https://localhost:8080/"
    },
    "outputId": "af862c2a-e5bd-4373-ecf0-1a8ba03794ff",
    "ExecuteTime": {
     "start_time": "2024-04-17T03:52:54.274019500Z"
    }
   },
   "outputs": [],
   "source": [
    "# Train the agent\n",
    "model = DQN(\"CnnPolicy\", vec_env, verbose=1, tensorboard_log=f'/content/drive/MyDrive/CS5446/log')\n",
    "model.learn(3000000, tb_log_name=\"dqn\")\n",
    "model.save(f'/content/drive/MyDrive/CS5446/models/dqn')"
   ]
  },
  {
   "cell_type": "markdown",
   "id": "df2536bd",
   "metadata": {
    "papermill": {
     "duration": 0.026386,
     "end_time": "2023-06-09T14:29:42.341146",
     "exception": false,
     "start_time": "2023-06-09T14:29:42.314760",
     "status": "completed"
    },
    "tags": [],
    "id": "df2536bd"
   },
   "source": [
    "## Test our model with 1000 steps and record all plays."
   ]
  },
  {
   "cell_type": "code",
   "execution_count": null,
   "id": "e0c1175e",
   "metadata": {
    "execution": {
     "iopub.execute_input": "2023-06-09T14:29:42.400415Z",
     "iopub.status.busy": "2023-06-09T14:29:42.399508Z",
     "iopub.status.idle": "2023-06-09T14:31:36.542398Z",
     "shell.execute_reply": "2023-06-09T14:31:36.540867Z"
    },
    "papermill": {
     "duration": 114.177483,
     "end_time": "2023-06-09T14:31:36.545016",
     "exception": false,
     "start_time": "2023-06-09T14:29:42.367533",
     "status": "completed"
    },
    "tags": [],
    "id": "e0c1175e",
    "ExecuteTime": {
     "start_time": "2024-04-17T03:52:54.274019500Z"
    }
   },
   "outputs": [],
   "source": [
    "import os\n",
    "import shutil\n",
    "\n",
    "# Test the trained agent\n",
    "# using the vecenv\n",
    "obs = vec_env.reset()\n",
    "test_steps = 1000\n",
    "\n",
    "replay_folder = './replay'\n",
    "if os.path.exists(replay_folder):\n",
    "    shutil.rmtree(replay_folder)\n",
    "\n",
    "n_env = obs.shape[0] # Number of environments. DQN will play all envs\n",
    "ep_id = np.zeros(n_env, int)\n",
    "ep_steps = np.zeros(n_env, int)\n",
    "cum_reward = np.zeros(n_env)\n",
    "max_reward = -1e10\n",
    "max_game_id = 0\n",
    "max_ep_id = 0\n",
    "max_rm_lines = 0\n",
    "max_lifetime = 0\n",
    "\n",
    "for step in range(test_steps):\n",
    "    action, _ = model.predict(obs, deterministic=True)\n",
    "    obs, reward, done, info = vec_env.step(action)\n",
    "\n",
    "    if step % 20 == 0:\n",
    "        print(f\"Step {step}\")\n",
    "        print(\"Action: \", action)\n",
    "        print(\"reward=\", reward, \" done=\", done)\n",
    "\n",
    "    for eID in range(n_env):\n",
    "        cum_reward[eID] += reward[eID]\n",
    "        folder = f'{replay_folder}/{eID}/{ep_id[eID]}'\n",
    "        if not os.path.exists(folder):\n",
    "            os.makedirs(folder)\n",
    "        fname = folder + '/' + '{:06d}'.format(ep_steps[eID]) + '.png'\n",
    "        cv2.imwrite(fname, obs[eID])\n",
    "        #cv2.imshow(\"Image\" + str(eID), obs[eID])\n",
    "        #cv2.waitKey(10)\n",
    "        ep_steps[eID] += 1\n",
    "\n",
    "        if done[eID]:\n",
    "            if cum_reward[eID] > max_reward:\n",
    "                max_reward = cum_reward[eID]\n",
    "                max_game_id = eID\n",
    "                max_ep_id = ep_id[eID]\n",
    "                max_rm_lines = info[eID]['removed_lines']\n",
    "                max_lifetime = info[eID]['lifetime']\n",
    "\n",
    "            ep_id[eID] += 1\n",
    "            cum_reward[eID] = 0\n",
    "            ep_steps[eID] = 0\n",
    "\n",
    "#cv2.destroyAllWindows()"
   ]
  },
  {
   "cell_type": "code",
   "execution_count": null,
   "id": "f6d31e4a",
   "metadata": {
    "execution": {
     "iopub.execute_input": "2023-06-09T14:31:36.607671Z",
     "iopub.status.busy": "2023-06-09T14:31:36.606953Z",
     "iopub.status.idle": "2023-06-09T14:31:36.614048Z",
     "shell.execute_reply": "2023-06-09T14:31:36.613146Z"
    },
    "papermill": {
     "duration": 0.040156,
     "end_time": "2023-06-09T14:31:36.616171",
     "exception": false,
     "start_time": "2023-06-09T14:31:36.576015",
     "status": "completed"
    },
    "tags": [],
    "id": "f6d31e4a",
    "ExecuteTime": {
     "end_time": "2024-04-17T03:52:54.285345100Z",
     "start_time": "2024-04-17T03:52:54.280610100Z"
    }
   },
   "outputs": [],
   "source": [
    "best_replay_path = replay_folder + '/' + str(max_game_id) + '/' + str(max_ep_id)\n",
    "\n",
    "print(\"After playing 30 envs each for \", test_steps, \" steps:\")\n",
    "print(\" Max reward=\", max_reward, \" Best video: \" + best_replay_path)\n",
    "print(\" Removed lines=\", max_rm_lines, \" lifetime=\", max_lifetime)"
   ]
  },
  {
   "cell_type": "markdown",
   "id": "5fcfc458",
   "metadata": {
    "papermill": {
     "duration": 0.030193,
     "end_time": "2023-06-09T14:31:36.676473",
     "exception": false,
     "start_time": "2023-06-09T14:31:36.646280",
     "status": "completed"
    },
    "tags": [],
    "id": "5fcfc458"
   },
   "source": [
    "## Make a gif image to visualize the best play"
   ]
  },
  {
   "cell_type": "code",
   "execution_count": null,
   "id": "c9f53746",
   "metadata": {
    "execution": {
     "iopub.execute_input": "2023-06-09T14:31:36.739522Z",
     "iopub.status.busy": "2023-06-09T14:31:36.738408Z",
     "iopub.status.idle": "2023-06-09T14:31:37.593567Z",
     "shell.execute_reply": "2023-06-09T14:31:37.592486Z"
    },
    "papermill": {
     "duration": 0.889424,
     "end_time": "2023-06-09T14:31:37.595917",
     "exception": false,
     "start_time": "2023-06-09T14:31:36.706493",
     "status": "completed"
    },
    "tags": [],
    "id": "c9f53746",
    "ExecuteTime": {
     "start_time": "2024-04-17T03:52:54.281331400Z"
    }
   },
   "outputs": [],
   "source": [
    "import glob\n",
    "import imageio\n",
    "\n",
    "filenames = sorted(glob.glob(best_replay_path + '/*.png'))\n",
    "\n",
    "images = []\n",
    "for filename in filenames:\n",
    "    images.append(imageio.imread(filename))\n",
    "imageio.mimsave('/content/drive/MyDrive/CS5446/models/dqn/replay.gif', images, loop=0)"
   ]
  },
  {
   "cell_type": "code",
   "execution_count": null,
   "id": "fb9f2a3b",
   "metadata": {
    "execution": {
     "iopub.execute_input": "2023-06-09T14:31:37.658980Z",
     "iopub.status.busy": "2023-06-09T14:31:37.658594Z",
     "iopub.status.idle": "2023-06-09T14:31:37.671674Z",
     "shell.execute_reply": "2023-06-09T14:31:37.670813Z"
    },
    "papermill": {
     "duration": 0.048651,
     "end_time": "2023-06-09T14:31:37.675095",
     "exception": false,
     "start_time": "2023-06-09T14:31:37.626444",
     "status": "completed"
    },
    "tags": [],
    "id": "fb9f2a3b",
    "ExecuteTime": {
     "start_time": "2024-04-17T03:52:54.281331400Z"
    }
   },
   "outputs": [],
   "source": [
    "from IPython.display import Image\n",
    "Image(filename='/kaggle/working/replay.gif')"
   ]
  },
  {
   "cell_type": "code",
   "execution_count": null,
   "id": "a6a563a9",
   "metadata": {
    "execution": {
     "iopub.execute_input": "2023-06-09T14:31:37.740948Z",
     "iopub.status.busy": "2023-06-09T14:31:37.740000Z",
     "iopub.status.idle": "2023-06-09T14:31:37.959141Z",
     "shell.execute_reply": "2023-06-09T14:31:37.958014Z"
    },
    "papermill": {
     "duration": 0.254476,
     "end_time": "2023-06-09T14:31:37.961964",
     "exception": false,
     "start_time": "2023-06-09T14:31:37.707488",
     "status": "completed"
    },
    "tags": [],
    "id": "a6a563a9",
    "ExecuteTime": {
     "end_time": "2024-04-17T03:52:54.296216900Z",
     "start_time": "2024-04-17T03:52:54.285345100Z"
    }
   },
   "outputs": [],
   "source": [
    "model.save('/content/drive/MyDrive/CS5446/models/dqn/your_studentID_dqn_30env_3M.zip')"
   ]
  },
  {
   "cell_type": "code",
   "execution_count": null,
   "id": "6fbde2a6",
   "metadata": {
    "execution": {
     "iopub.execute_input": "2023-06-09T14:31:38.029373Z",
     "iopub.status.busy": "2023-06-09T14:31:38.028248Z",
     "iopub.status.idle": "2023-06-09T14:31:38.035807Z",
     "shell.execute_reply": "2023-06-09T14:31:38.034985Z"
    },
    "papermill": {
     "duration": 0.04315,
     "end_time": "2023-06-09T14:31:38.038110",
     "exception": false,
     "start_time": "2023-06-09T14:31:37.994960",
     "status": "completed"
    },
    "tags": [],
    "id": "6fbde2a6",
    "ExecuteTime": {
     "start_time": "2024-04-17T03:52:54.288506300Z"
    }
   },
   "outputs": [],
   "source": [
    "with open('/content/drive/MyDrive/CS5446/models/dqn/tetris_best_score.csv', 'w') as fs:\n",
    "    fs.write('Id,Predicted\\n')\n",
    "    fs.write(f'game_score,{max_reward}\\n')"
   ]
  },
  {
   "cell_type": "code",
   "execution_count": null,
   "id": "3b2f16a9",
   "metadata": {
    "execution": {
     "iopub.execute_input": "2023-06-09T14:31:38.102909Z",
     "iopub.status.busy": "2023-06-09T14:31:38.102480Z",
     "iopub.status.idle": "2023-06-09T14:31:38.109740Z",
     "shell.execute_reply": "2023-06-09T14:31:38.108780Z"
    },
    "papermill": {
     "duration": 0.042003,
     "end_time": "2023-06-09T14:31:38.111855",
     "exception": false,
     "start_time": "2023-06-09T14:31:38.069852",
     "status": "completed"
    },
    "tags": [],
    "id": "3b2f16a9",
    "ExecuteTime": {
     "start_time": "2024-04-17T03:52:54.288506300Z"
    }
   },
   "outputs": [],
   "source": [
    "# Upload your results to Kaggle\n",
    "from IPython.display import FileLink\n",
    "FileLink('tetris_best_score.csv')"
   ]
  }
 ],
 "metadata": {
  "kernelspec": {
   "display_name": "Python 3",
   "language": "python",
   "name": "python3"
  },
  "language_info": {
   "codemirror_mode": {
    "name": "ipython",
    "version": 3
   },
   "file_extension": ".py",
   "mimetype": "text/x-python",
   "name": "python",
   "nbconvert_exporter": "python",
   "pygments_lexer": "ipython3",
   "version": "3.10.10"
  },
  "papermill": {
   "default_parameters": {},
   "duration": 18815.058636,
   "end_time": "2023-06-09T14:31:40.827097",
   "environment_variables": {},
   "exception": null,
   "input_path": "__notebook__.ipynb",
   "output_path": "__notebook__.ipynb",
   "parameters": {},
   "start_time": "2023-06-09T09:18:05.768461",
   "version": "2.4.0"
  },
  "colab": {
   "provenance": []
  }
 },
 "nbformat": 4,
 "nbformat_minor": 5
}
